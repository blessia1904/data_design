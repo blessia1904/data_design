{
 "cells": [
  {
   "cell_type": "markdown",
   "id": "f5678d16",
   "metadata": {},
   "source": [
    "## a) Use the URL identified above and write code that loads the first page with 40 items per page of “B&N Top 100”.\n",
    "## b) Take your code in (a) and create a list of each book’s product page URL. This list should be of length 40."
   ]
  },
  {
   "cell_type": "code",
   "execution_count": 1,
   "id": "afdf19af",
   "metadata": {},
   "outputs": [
    {
     "name": "stdout",
     "output_type": "stream",
     "text": [
      "['https://www.barnesandnoble.com/w/a-curse-for-true-love-stephanie-garber/1142831119?ean=9781250908452', 'https://www.barnesandnoble.com/w/beeple-mike-winkelmann/1142232924?ean=9781419756917', 'https://www.barnesandnoble.com/w/the-brothers-hawthorne-jennifer-lynn-barnes/1142336901?ean=9780316565233', 'https://www.barnesandnoble.com/w/throne-of-the-fallen-kerri-maniscalco/1142915833?ean=9780316568920', 'https://www.barnesandnoble.com/w/happy-place-emily-henry/1141876774?ean=9780593639689', 'https://www.barnesandnoble.com/w/foxglove-adalyn-grace/1142480492?ean=9780316565257', 'https://www.barnesandnoble.com/w/love-theoretically-ali-hazelwood/1142531371?ean=9780593641064', 'https://www.barnesandnoble.com/w/saved-benjamin-hall/1142632433?ean=9780063309661', 'https://www.barnesandnoble.com/w/king-of-wrath-ana-huang/1142543715?ean=9781728290898', 'https://www.barnesandnoble.com/w/final-offer-lauren-asher/1141860855?ean=9781728272221', 'https://www.barnesandnoble.com/w/chain-of-thorns-cassandra-clare/1141411300?ean=9781481431934', 'https://www.barnesandnoble.com/w/meet-me-at-the-lake-carley-fortune/1141910794?ean=9780593438558', 'https://www.barnesandnoble.com/w/heavenly-tyrant-xiran-jay-zhao/1142553219?ean=9780735269989', 'https://www.barnesandnoble.com/w/the-prisoners-throne-holly-black/1142950065?ean=9780316569309', 'https://www.barnesandnoble.com/w/things-we-hide-from-the-light-lucy-score/1142031614?ean=9781728276113', 'https://www.barnesandnoble.com/w/the-christmas-orphans-club-becca-freeman/1142888489?ean=9780143138037', 'https://www.barnesandnoble.com/w/a-day-of-fallen-night-samantha-shannon/1141374754?ean=9781639731671', 'https://www.barnesandnoble.com/w/secretly-yours-tessa-bailey/1141447503?ean=9780063238985', 'https://www.barnesandnoble.com/w/the-wall-of-winnipeg-and-me-mariana-zapata/1123494064?ean=9780063325852', 'https://www.barnesandnoble.com/w/lore-olympus-rachel-smythe/1141982359?ean=9780593600078', 'https://www.barnesandnoble.com/w/house-of-roots-and-ruin-erin-a-craig/1142680400?ean=9780593708347', 'https://www.barnesandnoble.com/w/yours-truly-abby-jimenez/1141978637?ean=9781538704394', 'https://www.barnesandnoble.com/w/cooking-with-shereen-rockstar-dinners-shereen-pavlides/1141363801?ean=9781645679905', 'https://www.barnesandnoble.com/w/yellowface-r-f-kuang/1142006137?ean=9780063250833', 'https://www.barnesandnoble.com/w/throne-of-glass-maas-sarah-j/1141902141?ean=9781639730957', 'https://www.barnesandnoble.com/w/tasting-history-max-miller/1141673843?ean=9781982186180', 'https://www.barnesandnoble.com/w/spy-x-family-vol-9-tatsuya-endo/1141652264?ean=9781974736287', 'https://www.barnesandnoble.com/w/1964-paul-mccartney/1142974485?ean=9781324093060', 'https://www.barnesandnoble.com/w/icebreaker-hannah-grace/1142730300?ean=9781668026038', 'https://www.barnesandnoble.com/w/the-sun-and-the-star-rick-riordan/1142365456?ean=9781368098878', 'https://www.barnesandnoble.com/w/awaken-your-genius-ozan-varol/1141764343?ean=9781541700369', 'https://www.barnesandnoble.com/w/crown-of-midnight-maas-sarah-j/1141902142?ean=9781639730971', 'https://www.barnesandnoble.com/w/a-soul-of-ash-and-blood-jennifer-l-armentrout/1142749250?ean=9781957568423', 'https://www.barnesandnoble.com/w/girls-like-girls-hayley-kiyoko/1142517081?ean=9781250817631', 'https://www.barnesandnoble.com/w/in-the-lives-of-puppets-tj-klune/1141344200?ean=9781250889539', 'https://www.barnesandnoble.com/w/twenty-thousand-fleas-under-the-sea-dav-pilkey/1141938121?ean=9781338895957', 'https://www.barnesandnoble.com/w/wealth-without-cash-pace-morby/1142015980?ean=9781947200883', 'https://www.barnesandnoble.com/w/the-true-love-experiment-christina-lauren/1142221300?ean=9781668031759', 'https://www.barnesandnoble.com/w/heir-of-fire-maas-sarah-j/1141902148?ean=9781639730995', 'https://www.barnesandnoble.com/w/last-violent-call-chloe-gong/1141875756?ean=9781665934510']\n"
     ]
    },
    {
     "data": {
      "text/plain": [
       "40"
      ]
     },
     "execution_count": 1,
     "metadata": {},
     "output_type": "execute_result"
    }
   ],
   "source": [
    "from bs4 import BeautifulSoup\n",
    "from fake_useragent import UserAgent\n",
    "import requests\n",
    "\n",
    "ua = UserAgent()\n",
    "url=\"https://www.barnesandnoble.com/b/books/_/N-1fZ29Z8q8?Nrpp=40\" ## first page with 40 books\n",
    "header = {\"User-Agent\": \"Mozilla/5.0 (Windows NT 10.0; Win64; x64) AppleWebKit/537.36 (KHTML, like Gecko) Chrome/89.0.4389.90 Safari/537.36\",\n",
    "#          'Accept-Encoding': 'utf-8'\n",
    "         }\n",
    "\n",
    "\n",
    "try:\n",
    "    links = []\n",
    "    page = requests.get(url, headers=header, timeout=5)\n",
    "    soup = BeautifulSoup(page.text, 'lxml')\n",
    "    list_of_contents = soup.select(\"h3.product-info-title\") ## find where the titles are (URL is inside)\n",
    "    for tag in list_of_contents: \n",
    "        for i in tag.find_all('a'):\n",
    "            links.append(\"https://www.barnesandnoble.com\" + i.get('href')) ## get each book's URL\n",
    "            \n",
    "except:\n",
    "    print(\"Problem with the connection...\")\n",
    "\n",
    "\n",
    "print(links)\n",
    "len(links)"
   ]
  },
  {
   "cell_type": "markdown",
   "id": "3c422366",
   "metadata": {},
   "source": [
    "## c) Write a loop that downloads each product page of the top 40 books in “B&N Top 100”. e., save each of these pages to your computer using a meaningful filename (e.g., \"bn_top100_01.html\"). IMPORTANT: Each page request needs to be followed by at least a 5 second pause!  Remember, you want your program to mimic your behavior as a human and help you make good purchasing decisions."
   ]
  },
  {
   "cell_type": "code",
   "execution_count": null,
   "id": "93ab87c0",
   "metadata": {},
   "outputs": [],
   "source": [
    "import time\n",
    "\n",
    "def download_file(download_url, i): ## create a download function\n",
    "    response = requests.get(download_url, headers=header, timeout=10)\n",
    "    html = response.text\n",
    "    with open(f\"bn_top100_{i}.html\", \"w\") as f:\n",
    "        f.write(html)\n",
    "\n",
    "for i in range (40): ## use the function to download 40 html \n",
    "    download_file(links[i], i) ## URL are from last step's list\n",
    "    time.sleep(5) ## 5 seconds pause\n"
   ]
  },
  {
   "cell_type": "code",
   "execution_count": 2,
   "id": "e8b8aaa5",
   "metadata": {},
   "outputs": [
    {
     "name": "stdout",
     "output_type": "stream",
     "text": [
      "['bn_top100_0.html', 'bn_top100_1.html', 'bn_top100_2.html', 'bn_top100_3.html', 'bn_top100_4.html', 'bn_top100_5.html', 'bn_top100_6.html', 'bn_top100_7.html', 'bn_top100_8.html', 'bn_top100_9.html', 'bn_top100_10.html', 'bn_top100_11.html', 'bn_top100_12.html', 'bn_top100_13.html', 'bn_top100_14.html', 'bn_top100_15.html', 'bn_top100_16.html', 'bn_top100_17.html', 'bn_top100_18.html', 'bn_top100_19.html', 'bn_top100_20.html', 'bn_top100_21.html', 'bn_top100_22.html', 'bn_top100_23.html', 'bn_top100_24.html', 'bn_top100_25.html', 'bn_top100_26.html', 'bn_top100_27.html', 'bn_top100_28.html', 'bn_top100_29.html', 'bn_top100_30.html', 'bn_top100_31.html', 'bn_top100_32.html', 'bn_top100_33.html', 'bn_top100_34.html', 'bn_top100_35.html', 'bn_top100_36.html', 'bn_top100_37.html', 'bn_top100_38.html', 'bn_top100_39.html']\n"
     ]
    }
   ],
   "source": [
    "file_names = []\n",
    "for i in range(40):\n",
    "    file_names.append(f\"bn_top100_{i}.html\")\n",
    "print(file_names)\n",
    "\n",
    "# double check to see if files are downloaded and named correctly, and also for next step's reading"
   ]
  },
  {
   "cell_type": "markdown",
   "id": "85c80bfe",
   "metadata": {},
   "source": [
    "## d) Write a separate piece of code that loops through the pages you downloaded in (c), opens and parses them into a Python or Java xxxxsoup-object. Next, access the “Overview” section of the page and print the first 100 characters of the overview text to screen."
   ]
  },
  {
   "cell_type": "code",
   "execution_count": 4,
   "id": "0ca2f065",
   "metadata": {},
   "outputs": [
    {
     "name": "stdout",
     "output_type": "stream",
     "text": [
      "0 This Barnes & Noble Exclusive Edition includes a unique cover and case stamp and will contain exclus\n",
      "1 This Barnes & Noble Exclusive Edition contains bonus content and features a unique cover! The adult \n",
      "2 This Barnes & Noble Exclusive Edition contains an extended bonus epilogue from Dante’s point of view\n",
      "3 This Barnes & Noble Exclusive Edition features an alternate jacket and contains a bonus short story \n",
      "4 Notes From Your BooksellerRom-com and Emily Henry are two of our favorite pairings. Book lovers, mee\n",
      "5 This Barnes & Noble Exclusive Edition features an alternate jacket and a unique hardcover case and e\n",
      "6 Rival physicists collide in a vortex of academic feuds and fake dating shenanigans in this delightfu\n",
      "7 Notes From Your BooksellerLucy Score’s a hit with the first book, Things We Never Got Over, in her “\n",
      "8 Notes From Your BooksellerThe third book in the Dreamland Billionaires series not only adds to the s\n",
      "9 The fates of two bitter enemies with opposing magical abilities are swept together in The Hurricane \n",
      "10 From #1 New York Times bestselling author and TikTok favorite Tessa Bailey comes a steamy new rom-co\n",
      "11 This Barnes & Noble Exclusive Edition features original cover artwork on the hardcover by author and\n",
      "12 Notes From Your BooksellerShadowhunter fans rejoice – this stunning conclusion to The Last Hours ser\n",
      "13 A novel of terrible first impressions, hilarious second chances, and the joy in finding your perfect\n",
      "14 Notes From Your BooksellerGet lost in the enchanting world of The Priory of the Orange Tree in this \n",
      "15 Ever wish there was a step-by-step blueprint to design your life for financial freedom, lifestyle fl\n",
      "16 This Barnes & Noble Exclusive Edition includes bonus content by the author, a jacket with gold foili\n",
      "17 Notes From Your BooksellerLittle boy, beloved son, brother, husband and father, prince, soldier, and\n",
      "18 A random connection sends two strangers on a daylong adventure where they make a promise one keeps a\n",
      "19 This B&N Exclusive Edition contains a \"How to Care for your Rambo\" instruction manual, a beautiful f\n",
      "20 Notes From Your BooksellerA thoroughly enchanting novel that follows lovable Arthur, the caretaker o\n",
      "21 #1 New York Times bestselling author Tessa Bailey returns with the hilarious follow-up to Secretly Y\n",
      "22 There's nowhere more dangerous than Olympus...and no one more captivating than its golden god: Apoll\n",
      "23 This Barnes & Noble Exclusive Edition includes an altered colored cover with silver foil, colored en\n",
      "24 The Fox News host and #1 New York Times bestselling author of Doesn’t Hurt to Ask shares his trusted\n",
      "25 Once Upon a Broken Heart marks the launch of a new series about love, curses, and the lengths that p\n",
      "26 Notes From Your BooksellerIn the captivating follow-up to the addictive queer fantasy, The Night and\n",
      "27 A TikTok sensation! Sparks fly when a competitive figure skater and hockey team captain are forced t\n",
      "28 Notes From Your BooksellerWe adore TJ Klune and his charming, big-hearted books like The House in th\n",
      "29 This Barnes & Noble Exclusive Edition contains a folded full-color poster of all the gods, creatures\n",
      "30 From the acclaimed author of Think Like a Rocket Scientist comes a simple guide to unlock your origi\n",
      "31 Never trust an assassin.Celaena's story continues in this second book in the #1 bestselling Throne o\n",
      "32 #1 New York Times bestselling author Jennifer L. Armentrout revisits the first novel in her phenomen\n",
      "33 Trailblazing pop star, actor and director, Hayley Kiyoko debuts her first novel, a coming-of-age rom\n",
      "34 This B&N Exclusive Edition contains a \"How to Care for your Rambo\" instruction manual, a beautiful f\n",
      "35 Trailblazing pop star, actor and director, Hayley Kiyoko debuts her first novel, a coming-of-age rom\n",
      "36 The original heroes from The Lightning Thief are reunited for their biggest challenge yet: getting P\n",
      "37 Notes From Your BooksellerFans of Once Upon a Broken Heart won’t want to miss this pulse-pounding, m\n",
      "38 The homicide cop with a passion for justice returns in the captivating crime thriller series by the \n",
      "39 An action-packed comedy about a fake family that includes a spy, an assassin and a telepath!Master s\n"
     ]
    }
   ],
   "source": [
    "screen=[]\n",
    "for i in range(40):\n",
    "    body=[]\n",
    "    with open(file_names[i], \"r\") as f:\n",
    "        text = f.read()\n",
    "        soup = BeautifulSoup(text, 'html')\n",
    "        list_of_contents = soup.select(\"div.text--medium\") ## find what's below the Overview\n",
    "        for a in list_of_contents:\n",
    "            sentence = a.get_text().strip()\n",
    "            body.append(sentence)\n",
    "        body = \" \".join(body) ## become str\n",
    "        print(i, body[:100]) ## get first 100 characters\n",
    "        screen.append(body[:100])\n",
    "#print(screen)"
   ]
  },
  {
   "cell_type": "code",
   "execution_count": null,
   "id": "d0c23169",
   "metadata": {},
   "outputs": [],
   "source": [
    "with open(\"Huixin_Blessia_Li_screen.txt\", \"w\") as file_obj:\n",
    "    for s in range(40):\n",
    "        file_obj.write(screen[s]+'\\n')"
   ]
  },
  {
   "cell_type": "code",
   "execution_count": null,
   "id": "eaf8ff09",
   "metadata": {},
   "outputs": [],
   "source": []
  }
 ],
 "metadata": {
  "kernelspec": {
   "display_name": "Python 3 (ipykernel)",
   "language": "python",
   "name": "python3"
  },
  "language_info": {
   "codemirror_mode": {
    "name": "ipython",
    "version": 3
   },
   "file_extension": ".py",
   "mimetype": "text/x-python",
   "name": "python",
   "nbconvert_exporter": "python",
   "pygments_lexer": "ipython3",
   "version": "3.9.13 (main, Oct 13 2022, 16:12:19) \n[Clang 12.0.0 ]"
  },
  "vscode": {
   "interpreter": {
    "hash": "3b667cede752b37d794189814f36e2f5392c7976ca87697e358f7d962038e4e4"
   }
  }
 },
 "nbformat": 4,
 "nbformat_minor": 5
}
